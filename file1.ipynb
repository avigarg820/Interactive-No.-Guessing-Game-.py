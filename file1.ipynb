{
 "cells": [
  {
   "cell_type": "markdown",
   "id": "4cecf95e",
   "metadata": {},
   "source": [
    "##  Interactive Guessing Game Designed In Python:"
   ]
  },
  {
   "cell_type": "markdown",
   "id": "58ddee04",
   "metadata": {},
   "source": [
    "## Guess the no from 1 to 100:"
   ]
  },
  {
   "cell_type": "code",
   "execution_count": 4,
   "id": "5d3df51b",
   "metadata": {},
   "outputs": [
    {
     "name": "stdout",
     "output_type": "stream",
     "text": [
      "#WELCOME PEEPS# To The Guessing Game:--> //WE BELIEVE IN YOU//<--\n",
      "  Your Guess from 1 to 100 \"Mon Chere\"/ My-Dear:58\n",
      "\n",
      " Haw, Wrong Guesss \n",
      " But Good Going- Enter a SMALLER Number Mon Chere-->\n",
      "\n",
      "  Your Guess from 1 to 100 \"Mon Chere\"/ My-Dear:50\n",
      "\n",
      " Haw, Wrong Guesss \n",
      " But Good Going- Enter a SMALLER Number Mon Chere-->\n",
      "\n",
      "  Your Guess from 1 to 100 \"Mon Chere\"/ My-Dear:44\n",
      "\n",
      " Haw, Wrong Guesss \n",
      "  But Going Great SO FAR- Enter a LARGER Number Mon Chere-->\n",
      "\n",
      "  Your Guess from 1 to 100 \"Mon Chere\"/ My-Dear:47\n",
      "\n",
      " Haw, Wrong Guesss \n",
      " But Good Going- Enter a SMALLER Number Mon Chere-->\n",
      "\n",
      "  Your Guess from 1 to 100 \"Mon Chere\"/ My-Dear:45\n",
      "\n",
      "OUTPUT == *BOLO TARA RARA* Correct Guess!\n",
      "\n",
      "-->It took you abt 5 Great guess to reach correct ans!!\n",
      "#PROUDMOMENT\n",
      "\n",
      "Greetings of congrats on your success with best wishes for your next adventure!”, Good Day\n"
     ]
    }
   ],
   "source": [
    "import random\n",
    "randm_num = random.randint(1,100)\n",
    "guesses = 0\n",
    "userguess = None # means 0\n",
    "print(\"#WELCOME PEEPS# To The Guessing Game:--> //WE BELIEVE IN YOU//<--\")\n",
    "while (userguess !=randm_num):\n",
    "    userguess = int(input('  Your Guess from 1 to 100 \"Mon Chere\"/ My-Dear:'))\n",
    "    print()\n",
    "    if userguess == randm_num:\n",
    "        print(\"OUTPUT == *BOLO TARA RARA*\",\"Correct Guess!\")\n",
    "    else:\n",
    "        print(\" Haw, Wrong Guesss\",\"\")\n",
    "        if (userguess>randm_num):            \n",
    "            \n",
    "            print(' But Good Going- Enter a SMALLER Number Mon Chere-->')\n",
    "        else:\n",
    "            print('  But Going Great SO FAR- Enter a LARGER Number Mon Chere-->')\n",
    "        print()\n",
    "    guesses+=1    \n",
    "print()\n",
    "print(f\"-->It took you abt {guesses} Great guess to reach correct ans!!\") \n",
    "if guesses <=6:\n",
    "    print(\"#PROUDMOMENT\")\n",
    "else:\n",
    "    print(\"#IMPROVED&PROUD\")\n",
    "print()     \n",
    "print(\"Greetings of congrats on your success with best wishes for your next adventure!”, Good Day\")    \n"
   ]
  },
  {
   "cell_type": "code",
   "execution_count": null,
   "id": "157408a4",
   "metadata": {},
   "outputs": [],
   "source": []
  }
 ],
 "metadata": {
  "kernelspec": {
   "display_name": "Python 3",
   "language": "python",
   "name": "python3"
  },
  "language_info": {
   "codemirror_mode": {
    "name": "ipython",
    "version": 3
   },
   "file_extension": ".py",
   "mimetype": "text/x-python",
   "name": "python",
   "nbconvert_exporter": "python",
   "pygments_lexer": "ipython3",
   "version": "3.8.8"
  }
 },
 "nbformat": 4,
 "nbformat_minor": 5
}
